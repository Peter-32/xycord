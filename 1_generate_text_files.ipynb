{
 "cells": [
  {
   "cell_type": "code",
   "execution_count": 1,
   "id": "49a44a4d-4034-4cf5-bd9d-fec6bc66ca17",
   "metadata": {},
   "outputs": [],
   "source": [
    "import struct"
   ]
  },
  {
   "cell_type": "code",
   "execution_count": 14,
   "id": "972d90d1-4dfc-4201-9c4a-52ab3f90d2f3",
   "metadata": {},
   "outputs": [],
   "source": [
    "import pandas as pd\n",
    "import numpy as np\n",
    "\n",
    "for i in range(24):\n",
    "    xs, ys, zs = [], [], []\n",
    "    for x in np.arange(30,80,0.051014041290124):\n",
    "        for y in np.arange(30,80,0.051014041290124):\n",
    "            z = np.random.uniform(0,100)\n",
    "            xs.append(x)\n",
    "            ys.append(y)\n",
    "            zs.append(z)\n",
    "    df = pd.DataFrame()\n",
    "    df['x'] = xs\n",
    "    df['y'] = ys\n",
    "    df['z'] = zs\n",
    "    df.to_csv(f\"data/time_{i}_to_{i+1}.txt\")\n",
    "    i += 1"
   ]
  },
  {
   "cell_type": "code",
   "execution_count": 16,
   "id": "08d1729e-ba0c-4620-8b46-b6fe10949e2e",
   "metadata": {},
   "outputs": [],
   "source": [
    "import pandas as pd\n",
    "import numpy as np\n",
    "\n",
    "xs, ys, zs = [], [], []\n",
    "for x in np.arange(50,59,0.051014041290124):\n",
    "    for y in np.arange(40,49,0.051014041290124):\n",
    "        z = np.random.uniform(0,100)\n",
    "        xs.append(x)\n",
    "        ys.append(y)\n",
    "        zs.append(z)\n",
    "df = pd.DataFrame()\n",
    "df['x'] = xs\n",
    "df['y'] = ys\n",
    "df['z'] = zs\n",
    "df.to_csv(f\"data/my_data_32000.txt\")\n"
   ]
  },
  {
   "cell_type": "code",
   "execution_count": null,
   "id": "e351224e-1e32-45c8-b909-0e3cab6b33c6",
   "metadata": {},
   "outputs": [],
   "source": []
  }
 ],
 "metadata": {
  "kernelspec": {
   "display_name": "Python 3 (ipykernel)",
   "language": "python",
   "name": "python3"
  },
  "language_info": {
   "codemirror_mode": {
    "name": "ipython",
    "version": 3
   },
   "file_extension": ".py",
   "mimetype": "text/x-python",
   "name": "python",
   "nbconvert_exporter": "python",
   "pygments_lexer": "ipython3",
   "version": "3.10.11"
  }
 },
 "nbformat": 4,
 "nbformat_minor": 5
}
